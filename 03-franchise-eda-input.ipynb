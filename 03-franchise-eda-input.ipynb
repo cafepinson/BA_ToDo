{
  "nbformat": 4,
  "nbformat_minor": 0,
  "metadata": {
    "kernelspec": {
      "display_name": "Python 3",
      "language": "python",
      "name": "python3"
    },
    "language_info": {
      "codemirror_mode": {
        "name": "ipython",
        "version": 3
      },
      "file_extension": ".py",
      "mimetype": "text/x-python",
      "name": "python",
      "nbconvert_exporter": "python",
      "pygments_lexer": "ipython3",
      "version": "3.7.6"
    },
    "toc": {
      "base_numbering": 1,
      "nav_menu": {},
      "number_sections": true,
      "sideBar": true,
      "skip_h1_title": false,
      "title_cell": "Table of Contents",
      "title_sidebar": "Contents",
      "toc_cell": false,
      "toc_position": {
        "height": "calc(100% - 180px)",
        "left": "10px",
        "top": "150px",
        "width": "204.788px"
      },
      "toc_section_display": true,
      "toc_window_display": true
    },
    "varInspector": {
      "cols": {
        "lenName": 16,
        "lenType": 16,
        "lenVar": 40
      },
      "kernels_config": {
        "python": {
          "delete_cmd_postfix": "",
          "delete_cmd_prefix": "del ",
          "library": "var_list.py",
          "varRefreshCmd": "print(var_dic_list())"
        },
        "r": {
          "delete_cmd_postfix": ") ",
          "delete_cmd_prefix": "rm(",
          "library": "var_list.r",
          "varRefreshCmd": "cat(var_dic_list()) "
        }
      },
      "types_to_exclude": [
        "module",
        "function",
        "builtin_function_or_method",
        "instance",
        "_Feature"
      ],
      "window_display": false
    },
    "colab": {
      "name": "03-franchise-eda-input.ipynb",
      "provenance": []
    }
  },
  "cells": [
    {
      "cell_type": "markdown",
      "metadata": {
        "id": "6j14psjMfpO1"
      },
      "source": [
        "[![Open In Colab](https://colab.research.google.com/assets/colab-badge.svg)](https://bit.ly/open-data-03-franchise-input)\n",
        "\n",
        "## 소상공인시장진흥공단 상가업소정보로 프랜차이즈 입점분석\n",
        "\n",
        "* 배스킨라빈스와 던킨도너츠는 근처에 입지한 것을 종종 볼 수 있었어요.\n",
        "* 또, 파리바게뜨와 뚜레주르는 주변에서 많이 볼 수 있는 프랜차이즈 중 하나에요. \n",
        "* 이런 프랜차이즈 매장이 얼마나 모여 있는지 혹은 흩어져 있는지 지도에 직접 표시를 해보면서 대용량 데이터에서 원하는 특정 데이터를 추출해 보는 실습을 해봅니다.\n",
        "* 추출한 데이터를 전처리하고 가공해서 원하는 형태로 시각화를 하거나 지도에 표현합니다.\n",
        "* Python, Pandas, Numpy, Seaborn, Matplotlib, folium 을 통해 다양한 방법으로 표현하면서 파이썬의 여러 도구들에 익숙해 지는 것을 목표로 합니다.\n",
        "\n",
        "### 다루는 내용\n",
        "* 데이터 요약하기\n",
        "* 공공데이터를 활용해 텍스트 데이터 정제하고 원하는 정보 찾아내기\n",
        "* 문자열에서 원하는 텍스트 추출하기\n",
        "* 문자열을 활용한 다양한 분석 방법과 위치 정보 사용하기\n",
        "* folium을 통한 위경도 데이터 시각화 이해하기\n",
        "* folium을 통해 지도에 분석한 내용을 표현하기 - CircleMarker와 MarkerCluster 그리기\n",
        "\n",
        "\n",
        "### 데이터셋\n",
        "* 공공데이터 포털 : https://www.data.go.kr/dataset/15012005/fileData.do\n",
        "* 영상에 사용한 데이터셋 : http://bit.ly/open-data-set-folder (공공데이터포털에서 다운로드 받은 파일이 있습니다. 어떤 파일을 다운로드 받아야 될지 모르겠다면 여기에 있는 파일을 사용해 주세요.)"
      ]
    },
    {
      "cell_type": "markdown",
      "metadata": {
        "id": "tACKC1K5fpO7"
      },
      "source": [
        "## 필요한 라이브러리 불러오기"
      ]
    },
    {
      "cell_type": "code",
      "metadata": {
        "id": "JyKoLEyqfpO8"
      },
      "source": [
        "# pandas, numpy, seaborn을 불러옵니다.\n",
        "import pandas as pd\n",
        "import numpy as np\n",
        "import seaborn as sns\n",
        "import matplotlib.pyplot as plt\n",
        "# 구버전의 주피터 노트북에서 그래프가 보이는 설정\n",
        "%matplotlib inline"
      ],
      "execution_count": 4,
      "outputs": []
    },
    {
      "cell_type": "markdown",
      "metadata": {
        "id": "roo_HAtSfpO-"
      },
      "source": [
        "## 시각화를 위한 한글 폰트 설정하기"
      ]
    },
    {
      "cell_type": "code",
      "metadata": {
        "id": "VasXm3BxfpO-"
      },
      "source": [
        "plt.rc(\"font\", family=\"D2coding\")"
      ],
      "execution_count": 15,
      "outputs": []
    },
    {
      "cell_type": "code",
      "metadata": {
        "id": "VoluW3SrfpO-"
      },
      "source": [
        "# 폰트가 선명하게 보이도록 설정\n"
      ],
      "execution_count": null,
      "outputs": []
    },
    {
      "cell_type": "code",
      "metadata": {
        "id": "-DmNEe-UfpO_",
        "outputId": "ebd9bdcb-26f0-49ce-fcab-6937492c6006",
        "colab": {
          "base_uri": "https://localhost:8080/",
          "height": 758
        }
      },
      "source": [
        "# 한글폰트와 마이너스 폰트 설정 확인\n",
        "plt.title(\"한글폰트설정\")\n",
        "plt.plot([-4, -6, 1, 2, 0, 3])"
      ],
      "execution_count": 16,
      "outputs": [
        {
          "output_type": "execute_result",
          "data": {
            "text/plain": [
              "[<matplotlib.lines.Line2D at 0x7fbaeb934bd0>]"
            ]
          },
          "metadata": {},
          "execution_count": 16
        },
        {
          "output_type": "stream",
          "name": "stderr",
          "text": [
            "findfont: Font family ['D2coding'] not found. Falling back to DejaVu Sans.\n",
            "/usr/local/lib/python3.7/dist-packages/matplotlib/backends/backend_agg.py:214: RuntimeWarning: Glyph 54620 missing from current font.\n",
            "  font.set_text(s, 0.0, flags=flags)\n",
            "/usr/local/lib/python3.7/dist-packages/matplotlib/backends/backend_agg.py:214: RuntimeWarning: Glyph 44544 missing from current font.\n",
            "  font.set_text(s, 0.0, flags=flags)\n",
            "/usr/local/lib/python3.7/dist-packages/matplotlib/backends/backend_agg.py:214: RuntimeWarning: Glyph 54256 missing from current font.\n",
            "  font.set_text(s, 0.0, flags=flags)\n",
            "/usr/local/lib/python3.7/dist-packages/matplotlib/backends/backend_agg.py:214: RuntimeWarning: Glyph 53944 missing from current font.\n",
            "  font.set_text(s, 0.0, flags=flags)\n",
            "/usr/local/lib/python3.7/dist-packages/matplotlib/backends/backend_agg.py:214: RuntimeWarning: Glyph 49444 missing from current font.\n",
            "  font.set_text(s, 0.0, flags=flags)\n",
            "/usr/local/lib/python3.7/dist-packages/matplotlib/backends/backend_agg.py:214: RuntimeWarning: Glyph 51221 missing from current font.\n",
            "  font.set_text(s, 0.0, flags=flags)\n",
            "findfont: Font family ['D2coding'] not found. Falling back to DejaVu Sans.\n",
            "/usr/local/lib/python3.7/dist-packages/matplotlib/backends/backend_agg.py:183: RuntimeWarning: Glyph 54620 missing from current font.\n",
            "  font.set_text(s, 0, flags=flags)\n",
            "/usr/local/lib/python3.7/dist-packages/matplotlib/backends/backend_agg.py:183: RuntimeWarning: Glyph 44544 missing from current font.\n",
            "  font.set_text(s, 0, flags=flags)\n",
            "/usr/local/lib/python3.7/dist-packages/matplotlib/backends/backend_agg.py:183: RuntimeWarning: Glyph 54256 missing from current font.\n",
            "  font.set_text(s, 0, flags=flags)\n",
            "/usr/local/lib/python3.7/dist-packages/matplotlib/backends/backend_agg.py:183: RuntimeWarning: Glyph 53944 missing from current font.\n",
            "  font.set_text(s, 0, flags=flags)\n",
            "/usr/local/lib/python3.7/dist-packages/matplotlib/backends/backend_agg.py:183: RuntimeWarning: Glyph 49444 missing from current font.\n",
            "  font.set_text(s, 0, flags=flags)\n",
            "/usr/local/lib/python3.7/dist-packages/matplotlib/backends/backend_agg.py:183: RuntimeWarning: Glyph 51221 missing from current font.\n",
            "  font.set_text(s, 0, flags=flags)\n"
          ]
        },
        {
          "output_type": "display_data",
          "data": {
            "image/png": "[encoded data removed]",
            "text/plain": [
              "<Figure size 432x288 with 1 Axes>"
            ]
          },
          "metadata": {
            "needs_background": "light"
          }
        }
      ]
    },
    {
      "cell_type": "markdown",
      "metadata": {
        "id": "4FZVnPxHfpPB"
      },
      "source": [
        "## Google Colab 을 위한 코드\n",
        "### Colab 에서 실행을 위한 코드\n",
        "\n",
        "* 아래의 코드는 google colaboratory 에서 실행을 위한 코드로 로컬 아나콘다에서는 주석처리합니다.\n",
        "* google colaboratory 에서는 주석을 풀고 폰트 설정과 csv 파일을 불러옵니다."
      ]
    },
    {
      "cell_type": "code",
      "metadata": {
        "id": "dDUthnYIfpPC"
      },
      "source": [
        "# # 나눔고딕 설치\n",
        "# !apt -qq -y install fonts-nanum > /dev/null\n",
        "\n",
        "# import matplotlib.font_manager as fm\n",
        "\n",
        "# fontpath = '/usr/share/fonts/truetype/nanum/NanumBarunGothic.ttf'\n",
        "# font = fm.FontProperties(fname=fontpath, size=9)\n",
        "# fm._rebuild()\n",
        "\n",
        "# # 그래프에 retina display 적용\n",
        "# %config InlineBackend.figure_format = 'retina'\n",
        "\n",
        "# # Colab 의 한글 폰트 설정\n",
        "# plt.rc('font', family='NanumBarunGothic') "
      ],
      "execution_count": null,
      "outputs": []
    },
    {
      "cell_type": "markdown",
      "metadata": {
        "id": "LmXhV94xfpPD"
      },
      "source": [
        "### Colab 용 GoogleAuth 인증 \n",
        "* 구글 드라이브에 있는 파일을 가져오기 위해 사용합니다."
      ]
    },
    {
      "cell_type": "code",
      "metadata": {
        "id": "iSGnHXDzfpPD"
      },
      "source": [
        "# # 구글 드라이브에서 csv 파일을 읽어오기 위해 gauth 인증\n",
        "# !pip install -U -q PyDrive\n",
        "# from pydrive.auth import GoogleAuth\n",
        "# from pydrive.drive import GoogleDrive\n",
        "# from google.colab import auth\n",
        "# from oauth2client.client import GoogleCredentials\n",
        "\n",
        "# # PyDrive client 인증\n",
        "# auth.authenticate_user()\n",
        "# gauth = GoogleAuth()\n",
        "# gauth.credentials = GoogleCredentials.get_application_default()\n",
        "# drive = GoogleDrive(gauth)"
      ],
      "execution_count": null,
      "outputs": []
    },
    {
      "cell_type": "code",
      "metadata": {
        "id": "4-WE77ekfpPE"
      },
      "source": [
        "# # 공유 가능한 링크로 파일 가져오기\n",
        "# url = 'https://drive.google.com/open?id=1e91PH_KRFxNXUsx8Hi-Q2vPiorCDsOP4'\n",
        "# id = url.split('=')[1]\n",
        "# print(id)\n",
        "# downloaded = drive.CreateFile({'id':id}) \n",
        "# # data 폴더에 파일을 관리하며, 폴더가 없다면 만들어서 파일을 관리하도록 한다.\n",
        "# %mkdir data\n",
        "# downloaded.GetContentFile('data/상가업소정보_201912_01.csv')  "
      ],
      "execution_count": null,
      "outputs": []
    },
    {
      "cell_type": "markdown",
      "metadata": {
        "id": "Vq1OF4uFfpPF"
      },
      "source": [
        "## 데이터 불러오기\n",
        "* 공공데이터 포털 : https://www.data.go.kr/dataset/15012005/fileData.do\n",
        "* 공공데이터 포털에서 소상공인시장진흥공단 상가업소정보를 다운로드 받아 사용했습니다\n",
        "* 영상에 사용한 데이터셋 : http://bit.ly/open-data-set-folder (공공데이터포털에서 다운로드 받은 파일이 있습니다. 어떤 파일을 다운로드 받아야 될지 모르겠다면 여기에 있는 파일을 사용해 주세요.)"
      ]
    },
    {
      "cell_type": "code",
      "metadata": {
        "id": "a8vVkBA6fpPG"
      },
      "source": [
        "# 파일을 불러와 df 라는 변수에 담습니다.\n"
      ],
      "execution_count": null,
      "outputs": []
    },
    {
      "cell_type": "markdown",
      "metadata": {
        "id": "U6TBQlDOfpPG"
      },
      "source": [
        "### 데이터 크기 보기"
      ]
    },
    {
      "cell_type": "code",
      "metadata": {
        "id": "H4MsPAt3fpPG"
      },
      "source": [
        "# shape 를 통해 불러온 csv 파일의 크기를 확인합니다.\n"
      ],
      "execution_count": null,
      "outputs": []
    },
    {
      "cell_type": "markdown",
      "metadata": {
        "id": "4Cdg2CYxfpPH"
      },
      "source": [
        "### info 보기"
      ]
    },
    {
      "cell_type": "code",
      "metadata": {
        "scrolled": false,
        "id": "x5SqzgYcfpPH"
      },
      "source": [
        "# info 를 사용하면 데이터의 전체적인 정보를 볼 수 있습니다.\n",
        "# 데이터의 사이즈, 타입, 메모리 사용량 등을 볼 수 있습니다.\n"
      ],
      "execution_count": null,
      "outputs": []
    },
    {
      "cell_type": "markdown",
      "metadata": {
        "id": "-WDOEpN3fpPI"
      },
      "source": [
        "### 결측치 보기"
      ]
    },
    {
      "cell_type": "code",
      "metadata": {
        "scrolled": false,
        "id": "7xTQuO9TfpPJ"
      },
      "source": [
        "# isnull() 을 사용하면 데이터의 결측치를 볼 수 있습니다.\n",
        "# 결측치는 True로 값이 있다면 False로 표시되는데 True 는 1과 같기 때문에 \n",
        "# True 값을 sum()을 사용해서 더하게 되면 합계를 볼 수 있습니다.\n",
        "# mean()을 사용하면 결측치의 비율을 볼 수 있습니다.\n"
      ],
      "execution_count": null,
      "outputs": []
    },
    {
      "cell_type": "markdown",
      "metadata": {
        "id": "egvhA5UffpPK"
      },
      "source": [
        "### 사용하지 않는 컬럼 제거하기"
      ]
    },
    {
      "cell_type": "code",
      "metadata": {
        "id": "AKDw6lA1fpPK"
      },
      "source": [
        "# drop을 하는 방법도 있지만 사용할 컬럼만 따로 모아서 보는 방법도 있습니다.\n",
        "# 여기에서는 사용할 컬럼만 따로 모아서 사용합니다.\n"
      ],
      "execution_count": null,
      "outputs": []
    },
    {
      "cell_type": "code",
      "metadata": {
        "id": "444p3dpBfpPK"
      },
      "source": [
        "# 제거 후 메모리 사용량 보기\n"
      ],
      "execution_count": null,
      "outputs": []
    },
    {
      "cell_type": "markdown",
      "metadata": {
        "id": "cwL0R_bwfpPL"
      },
      "source": [
        "## 색인으로 서브셋 가져오기\n",
        "### 서울만 따로 보기"
      ]
    },
    {
      "cell_type": "code",
      "metadata": {
        "id": "39VLJDVdfpPL"
      },
      "source": [
        "# 시도명이 서울로 시작하는 데이터만 봅니다.\n",
        "# 또, df_seoul 이라는 변수에 결과를 저장합니다.\n",
        "# 새로운 변수에 데이터프레임을 할당할 때 copy()를 사용하는 것을 권장합니다.\n"
      ],
      "execution_count": null,
      "outputs": []
    },
    {
      "cell_type": "code",
      "metadata": {
        "id": "o6xIGqAZfpPL"
      },
      "source": [
        "# unique 를 사용하면 중복을 제거한 시군구명을 가져옵니다. \n",
        "# 그리고 shape로 갯수를 출력해 봅니다.\n"
      ],
      "execution_count": null,
      "outputs": []
    },
    {
      "cell_type": "code",
      "metadata": {
        "id": "q2besYaUfpPL"
      },
      "source": [
        "# nunique 를 사용하면 중복을 제거한 시군구명의 갯수를 세어줍니다.\n"
      ],
      "execution_count": null,
      "outputs": []
    },
    {
      "cell_type": "markdown",
      "metadata": {
        "id": "5ojphIcQfpPM"
      },
      "source": [
        "## 파일로 저장하기\n",
        "* 전처리한 파일을 저장해 두면 재사용을 할 수 있습니다.\n",
        "* 재사용을 위해 파일로 저장합니다."
      ]
    },
    {
      "cell_type": "code",
      "metadata": {
        "id": "vAQjDNn0fpPM"
      },
      "source": [
        "# \"seoul_open_store.csv\" 라는 이름으로 저장합니다.\n"
      ],
      "execution_count": null,
      "outputs": []
    },
    {
      "cell_type": "code",
      "metadata": {
        "id": "t35UJhxnfpPM"
      },
      "source": [
        "# 제대로 저장이 되었는지 같은 파일을 불러와서 확인합니다.\n"
      ],
      "execution_count": null,
      "outputs": []
    },
    {
      "cell_type": "markdown",
      "metadata": {
        "id": "XVt0KZzSfpPM"
      },
      "source": [
        "## 배스킨라빈스, 던킨도너츠 위치 분석\n",
        "\n",
        "### 특정 상호만 가져오기\n",
        "* 여기에서는 배스킨라빈스와 던킨도너츠 상호를 가져와서 실습합니다.\n",
        "* 위에서 pandas의 str.conatains를 활용해 봅니다.\n",
        "* https://pandas.pydata.org/docs/user_guide/text.html#testing-for-strings-that-match-or-contain-a-pattern\n",
        "\n",
        "* 상호명에서 브랜드명을 추출합니다.\n",
        "* 대소문자가 섞여 있을 수도 있기 때문에 대소문자를 변환해 줍니다.\n",
        "* 오타를 방지하기 위해 배스킨라빈스의 영문명은 baskinrobbins, 던킨도너츠는 dunkindonuts 입니다."
      ]
    },
    {
      "cell_type": "code",
      "metadata": {
        "id": "RhUIM4TjfpPN"
      },
      "source": [
        "# 문자열의 소문자로 변경하는 메소드를 사용합니다.\n",
        "# \"상호명_소문자\" 컬럼을 만듭니다.\n"
      ],
      "execution_count": null,
      "outputs": []
    },
    {
      "cell_type": "code",
      "metadata": {
        "id": "Ra9AmJ86fpPN"
      },
      "source": [
        "# baskinrobbins 를 \"상호명_소문자\" 컬럼으로 가져옵니다.\n",
        "# 띄어쓰기 등의 다를 수 있기 때문에 앞글자 baskin 만 따서 가져오도록 합니다.\n",
        "# '상호명_소문자'컬럼으로 '배스킨라빈스|baskin' 를 가져와 갯수를 세어봅니다.\n",
        "# loc[행]\n",
        "# loc[행, 열]\n",
        "\n"
      ],
      "execution_count": null,
      "outputs": []
    },
    {
      "cell_type": "code",
      "metadata": {
        "id": "udPjzej8fpPN"
      },
      "source": [
        "# 상호명에서 던킨도너츠만 가져옵니다.\n",
        "# 상호명은 소문자로 변경해 준 컬럼을 사용합니다.\n",
        "# 던킨|dunkin 의 \"상호명_소문자\"로 갯수를 세어봅니다.\n",
        "\n"
      ],
      "execution_count": null,
      "outputs": []
    },
    {
      "cell_type": "code",
      "metadata": {
        "id": "nEvz0bdFfpPN"
      },
      "source": [
        "# '상호명_소문자'컬럼으로  '배스킨|베스킨|baskin|던킨|dunkin'를 가져와 df_31 변수에 담습니다.\n"
      ],
      "execution_count": null,
      "outputs": []
    },
    {
      "cell_type": "code",
      "metadata": {
        "id": "IFHM0Rc7fpPN"
      },
      "source": [
        "# ~은 not을 의미합니다. 베스킨라빈스가 아닌 데이터를 찾을 때 사용하면 좋습니다.\n",
        "# 아래 코드처럼 결측치를 던킨도너츠로 채워줘도 괜찮습니다.\n"
      ],
      "execution_count": null,
      "outputs": []
    },
    {
      "cell_type": "code",
      "metadata": {
        "id": "agyyem7sfpPO"
      },
      "source": [
        "# 'df_31에 담긴 상호명','브랜드명'으로 미리보기를 합니다.\n",
        "# df_31.loc[~df_31[\"상호명_소문자\"].str.contains(\"배스킨라빈스|베스킨라빈스|baskinrobbins\"), \n",
        "#           \"브랜드명\"]\n",
        "\n"
      ],
      "execution_count": null,
      "outputs": []
    },
    {
      "cell_type": "code",
      "metadata": {
        "id": "RJ7MNj9DfpPO"
      },
      "source": [
        "# 데이터가 제대로 모아졌는지 확인합니다.\n",
        "# \"상권업종대분류명\"을  value_counts 를 통해 빈도수를 계산합니다.\n",
        "\n"
      ],
      "execution_count": null,
      "outputs": []
    },
    {
      "cell_type": "code",
      "metadata": {
        "scrolled": true,
        "id": "8NpA7JtBfpPO"
      },
      "source": [
        "# \"상권업종대분류명\"컬럼에서 isin 기능을 사용해서 \"소매\", \"생활서비스\" 인 데이터만 가져옵니다.\n",
        "\n"
      ],
      "execution_count": null,
      "outputs": []
    },
    {
      "cell_type": "code",
      "metadata": {
        "id": "6rwsLtW-fpPO"
      },
      "source": [
        "# \"상권업종대분류명\"에서 \"소매\", \"생활서비스\"는 제외합니다.\n"
      ],
      "execution_count": null,
      "outputs": []
    },
    {
      "cell_type": "markdown",
      "metadata": {
        "id": "_18CEnaafpPP"
      },
      "source": [
        "### 범주형 값으로 countplot 그리기"
      ]
    },
    {
      "cell_type": "code",
      "metadata": {
        "id": "59gMetsHfpPP"
      },
      "source": [
        "# value_counts 로 \"브랜드명\"의 빈도수를 구합니다.\n"
      ],
      "execution_count": null,
      "outputs": []
    },
    {
      "cell_type": "code",
      "metadata": {
        "id": "SKALZH4efpPP"
      },
      "source": [
        "# normalize=True 로 빈도수의 비율을 구합니다.\n"
      ],
      "execution_count": null,
      "outputs": []
    },
    {
      "cell_type": "code",
      "metadata": {
        "id": "4NFnmhnnfpPP"
      },
      "source": [
        ""
      ],
      "execution_count": null,
      "outputs": []
    },
    {
      "cell_type": "code",
      "metadata": {
        "id": "s65uyz6yfpPP"
      },
      "source": [
        "# countplot 을 그립니다.\n",
        "\n"
      ],
      "execution_count": null,
      "outputs": []
    },
    {
      "cell_type": "code",
      "metadata": {
        "id": "ahq6P1qSfpPP"
      },
      "source": [
        "# 시군구명으로 빈도수를 세고 브랜드명으로 색상을 다르게 표현하는 countplot 을 그립니다.\n"
      ],
      "execution_count": null,
      "outputs": []
    },
    {
      "cell_type": "markdown",
      "metadata": {
        "id": "H8yeY62UfpPQ"
      },
      "source": [
        "### scatterplot 그리기"
      ]
    },
    {
      "cell_type": "markdown",
      "metadata": {
        "id": "R7Un4aRlfpPQ"
      },
      "source": [
        "* https://pandas.pydata.org/pandas-docs/stable/user_guide/visualization.html#scatter-plot"
      ]
    },
    {
      "cell_type": "code",
      "metadata": {
        "id": "_4LZ6jUHfpPQ"
      },
      "source": [
        "# Pandas 의 plot 으로 scatterplot 을 그립니다.\n"
      ],
      "execution_count": null,
      "outputs": []
    },
    {
      "cell_type": "code",
      "metadata": {
        "scrolled": false,
        "id": "lyv2ZDHvfpPQ"
      },
      "source": [
        "# seaborn의 scatterplot 으로 hue에 브랜드명을 지정해서 시각화 합니다.\n"
      ],
      "execution_count": null,
      "outputs": []
    },
    {
      "cell_type": "code",
      "metadata": {
        "id": "DyjOmczMfpPQ"
      },
      "source": [
        "# 위에서 그렸던 그래프를 jointplot 으로 kind=\"hex\" 을 사용해 그려봅니다.\n"
      ],
      "execution_count": null,
      "outputs": []
    },
    {
      "cell_type": "markdown",
      "metadata": {
        "id": "E2Y2B6JffpPR"
      },
      "source": [
        "## Folium 으로 지도 활용하기\n",
        "* 다음의 프롬프트 창을 열어 conda 명령어로 설치합니다.\n",
        "<img src=\"https://i.imgur.com/x7pzfCP.jpg\">\n",
        "* <font color=\"red\">주피터 노트북 상에서 설치가 되지 않으니</font> anaconda prompt 를 열어서 설치해 주세요.\n",
        "\n",
        "\n",
        "* 윈도우\n",
        "    * <font color=\"red\">관리자 권한</font>으로 아나콘다를 설치하셨다면 다음의 방법으로 anaconda prompt 를 열어 주세요.\n",
        "    <img src=\"https://i.imgur.com/GhoLwsd.png\">\n",
        "* 맥\n",
        "    * terminal 프로그램을 열어 설치해 주세요. \n",
        "\n",
        "\n",
        "* 다음의 문서를 활용해서 지도를 표현합니다.\n",
        "* https://nbviewer.jupyter.org/github/python-visualization/folium/blob/master/examples/Quickstart.ipynb\n",
        "* Folium 사용예제 :\n",
        "http://nbviewer.jupyter.org/github/python-visualization/folium/tree/master/examples/"
      ]
    },
    {
      "cell_type": "code",
      "metadata": {
        "id": "iFEvJTOofpPR"
      },
      "source": [
        "# 아나콘다에서 folium 을 사용하기 위해서는 별도의 설치가 필요\n",
        "# https://anaconda.org/conda-forge/folium\n",
        "# conda install -c conda-forge folium \n",
        "# 지도 시각화를 위한 라이브러리\n"
      ],
      "execution_count": null,
      "outputs": []
    },
    {
      "cell_type": "code",
      "metadata": {
        "id": "47H0QlDyfpPR"
      },
      "source": [
        "# 지도의 중심을 지정하기 위해 위도와 경도의 평균을 구합니다. \n"
      ],
      "execution_count": null,
      "outputs": []
    },
    {
      "cell_type": "code",
      "metadata": {
        "id": "JzqdDSG_fpPR"
      },
      "source": [
        "# 샘플을 하나 추출해서 지도에 표시해 봅니다.\n",
        "\n"
      ],
      "execution_count": null,
      "outputs": []
    },
    {
      "cell_type": "code",
      "metadata": {
        "scrolled": true,
        "id": "_gfPHzcofpPR"
      },
      "source": [
        "# folium 사용법을 보고 일부 데이터를 출력해 봅니다.\n"
      ],
      "execution_count": null,
      "outputs": []
    },
    {
      "cell_type": "code",
      "metadata": {
        "id": "k7WBKOyUfpPS"
      },
      "source": [
        "# html 파일로 저장하기\n",
        "# tooltip 의 한글이 깨져보인다면 html 파일로 저장해서 보세요.\n"
      ],
      "execution_count": null,
      "outputs": []
    },
    {
      "cell_type": "markdown",
      "metadata": {
        "id": "WFKY2-hofpPS"
      },
      "source": [
        "### 서울의 배스킨라빈스와 던킨도너츠 매장 분포\n",
        "* 배스킨라빈스와 던킨도너츠 매장을 지도에 표현합니다."
      ]
    },
    {
      "cell_type": "code",
      "metadata": {
        "id": "XQGPdryRfpPS"
      },
      "source": [
        "# 데이터프레임의 인덱스만 출력합니다.\n"
      ],
      "execution_count": null,
      "outputs": []
    },
    {
      "cell_type": "markdown",
      "metadata": {
        "id": "Udz4KQ98fpPS"
      },
      "source": [
        "### 기본 마커로 표현하기"
      ]
    },
    {
      "cell_type": "code",
      "metadata": {
        "id": "BHhqaQeEfpPS"
      },
      "source": [
        "# icon=folium.Icon(color=icon_color) 로 아이콘 컬러를 변경합니다.\n"
      ],
      "execution_count": null,
      "outputs": []
    },
    {
      "cell_type": "markdown",
      "metadata": {
        "id": "qUW722CTfpPS"
      },
      "source": [
        "### MarkerCluster 로 표현하기\n",
        "* https://nbviewer.jupyter.org/github/python-visualization/folium/blob/master/examples/MarkerCluster.ipynb"
      ]
    },
    {
      "cell_type": "code",
      "metadata": {
        "id": "SjOaNSMzfpPT"
      },
      "source": [
        "# icon=folium.Icon(color=icon_color) 로 아이콘 컬러를 변경합니다.\n"
      ],
      "execution_count": null,
      "outputs": []
    },
    {
      "cell_type": "markdown",
      "metadata": {
        "id": "zxhHLMd0fpPT"
      },
      "source": [
        "## 파리바게뜨와 뚜레주르 분석하기"
      ]
    },
    {
      "cell_type": "markdown",
      "metadata": {
        "id": "tpyIgae1fpPT"
      },
      "source": [
        "### 데이터 색인으로 가져오기"
      ]
    },
    {
      "cell_type": "code",
      "metadata": {
        "id": "s6jqtN7CfpPT"
      },
      "source": [
        ""
      ],
      "execution_count": null,
      "outputs": []
    },
    {
      "cell_type": "code",
      "metadata": {
        "id": "f7RaurQhfpPT"
      },
      "source": [
        "# str.contains 를 사용해서 뚜레(주|쥬)르|파리(바게|크라상) 으로 상호명을 찾습니다.\n",
        "# df_bread 라는 데이터프레임에 담습니다.\n"
      ],
      "execution_count": null,
      "outputs": []
    },
    {
      "cell_type": "markdown",
      "metadata": {
        "id": "vYa5_2sVfpPU"
      },
      "source": [
        "### 가져온 데이터가 맞는지 확인하기"
      ]
    },
    {
      "cell_type": "code",
      "metadata": {
        "id": "ihrCaPvKfpPU"
      },
      "source": [
        "# 잘못 가져온 데이터가 있는지 확인합니다.\n"
      ],
      "execution_count": null,
      "outputs": []
    },
    {
      "cell_type": "code",
      "metadata": {
        "id": "rhmtLhc4fpPU"
      },
      "source": [
        "# 제과점과 상관 없을 것 같은 상점을 추출합니다.\n"
      ],
      "execution_count": null,
      "outputs": []
    },
    {
      "cell_type": "code",
      "metadata": {
        "id": "Ta8AjRBEfpPU"
      },
      "source": [
        "# \"상권업종대분류명\"이 \"학문/교육\"이 아닌 것만 가져옵니다.\n"
      ],
      "execution_count": null,
      "outputs": []
    },
    {
      "cell_type": "code",
      "metadata": {
        "id": "GtP8jwiEfpPU"
      },
      "source": [
        "# 상호명의 unique 값을 봅니다.\n"
      ],
      "execution_count": null,
      "outputs": []
    },
    {
      "cell_type": "code",
      "metadata": {
        "id": "KTJlgSbOfpPV"
      },
      "source": [
        "# 상호명이 '파스쿠찌|잠바주스'가 아닌 것만 가져오세요.\n",
        "\n"
      ],
      "execution_count": null,
      "outputs": []
    },
    {
      "cell_type": "code",
      "metadata": {
        "id": "y4vwg0pmfpPV"
      },
      "source": [
        "# 브랜드명 컬럼을 만듭니다. \"파리바게뜨\" 에 해당되는 데이터에 대한 값을 채워줍니다.\n",
        "# 파리크라상에 대한 처리를 따로 해주세요!\n",
        "df_bread.loc[df_bread[\"상호명\"].str.contains(\"파리크라상\"), \"브랜드명\"] = \"파리바게뜨\"\n"
      ],
      "execution_count": null,
      "outputs": []
    },
    {
      "cell_type": "code",
      "metadata": {
        "id": "dOLm4UBMfpPX"
      },
      "source": [
        "# 브랜드명 컬럼의 결측치는 \"뚜레쥬르\" 이기 때문에 fillna 를 사용해서 값을 채웁니다.\n"
      ],
      "execution_count": null,
      "outputs": []
    },
    {
      "cell_type": "markdown",
      "metadata": {
        "id": "yFEFF_6PfpPX"
      },
      "source": [
        "### 범주형 변수 빈도수 계산하기"
      ]
    },
    {
      "cell_type": "code",
      "metadata": {
        "id": "KjdgEVATfpPX"
      },
      "source": [
        "# 브랜드명의 빈도수를 봅니다.\n"
      ],
      "execution_count": null,
      "outputs": []
    },
    {
      "cell_type": "code",
      "metadata": {
        "id": "Ba03lIebfpPY"
      },
      "source": [
        ""
      ],
      "execution_count": null,
      "outputs": []
    },
    {
      "cell_type": "code",
      "metadata": {
        "id": "woDLrSx_fpPY"
      },
      "source": [
        "# countplot 으로 브랜드명을 그려봅니다.\n"
      ],
      "execution_count": null,
      "outputs": []
    },
    {
      "cell_type": "code",
      "metadata": {
        "id": "aFA2v-MqfpPY"
      },
      "source": [
        "# 시군구별로 브랜드명의 빈도수 차이를 비교합니다.\n"
      ],
      "execution_count": null,
      "outputs": []
    },
    {
      "cell_type": "code",
      "metadata": {
        "id": "T-S0WWWVfpPY"
      },
      "source": [
        "# scatterplot 으로 위경도를 표현해 봅니다.\n"
      ],
      "execution_count": null,
      "outputs": []
    },
    {
      "cell_type": "code",
      "metadata": {
        "id": "ahMHStjDfpPZ"
      },
      "source": [
        "# jointplot 으로 위경도를 표현해 봅니다.\n"
      ],
      "execution_count": null,
      "outputs": []
    },
    {
      "cell_type": "markdown",
      "metadata": {
        "id": "V4Pc00kifpPZ"
      },
      "source": [
        "## 지도에 표현하기\n",
        "### Marker 로 위치를 찍어보기"
      ]
    },
    {
      "cell_type": "code",
      "metadata": {
        "id": "n4nQkKTgfpPa"
      },
      "source": [
        ""
      ],
      "execution_count": null,
      "outputs": []
    },
    {
      "cell_type": "code",
      "metadata": {
        "id": "GVPQi8SifpPa"
      },
      "source": [
        ""
      ],
      "execution_count": null,
      "outputs": []
    },
    {
      "cell_type": "code",
      "metadata": {
        "id": "tDd0sLTofpPa"
      },
      "source": [
        "# for i in df_bread.index:\n",
        "#     print(i)"
      ],
      "execution_count": null,
      "outputs": []
    },
    {
      "cell_type": "code",
      "metadata": {
        "scrolled": false,
        "id": "ECh0v2kcfpPa"
      },
      "source": [
        "# icon=folium.Icon(color=icon_color) 로 아이콘 컬러를 변경합니다.\n"
      ],
      "execution_count": null,
      "outputs": []
    },
    {
      "cell_type": "markdown",
      "metadata": {
        "id": "6wFVPm9lfpPa"
      },
      "source": [
        "### MarkerCluster 로 표현하기\n",
        "* https://nbviewer.jupyter.org/github/python-visualization/folium/blob/master/examples/MarkerCluster.ipynb"
      ]
    },
    {
      "cell_type": "code",
      "metadata": {
        "id": "creKjnmFfpPa"
      },
      "source": [
        ""
      ],
      "execution_count": null,
      "outputs": []
    },
    {
      "cell_type": "markdown",
      "metadata": {
        "id": "5tboCMCwfpPa"
      },
      "source": [
        "### Heatmap 으로 그리기\n",
        "https://nbviewer.jupyter.org/github/python-visualization/folium/blob/master/examples/Heatmap.ipynb"
      ]
    },
    {
      "cell_type": "code",
      "metadata": {
        "id": "7Z69XVq4fpPb"
      },
      "source": [
        "# heatmap 예제 이해하기\n"
      ],
      "execution_count": null,
      "outputs": []
    },
    {
      "cell_type": "code",
      "metadata": {
        "id": "IZJy9kbUfpPb"
      },
      "source": [
        "# heatmap 예제와 같은 형태로 데이터 2차원 배열 만들기\n"
      ],
      "execution_count": null,
      "outputs": []
    },
    {
      "cell_type": "code",
      "metadata": {
        "id": "17lRF2DSfpPb"
      },
      "source": [
        ""
      ],
      "execution_count": null,
      "outputs": []
    },
    {
      "cell_type": "code",
      "metadata": {
        "id": "x1kyM4o2fpPb"
      },
      "source": [
        "# HeatMap 그리기\n"
      ],
      "execution_count": null,
      "outputs": []
    },
    {
      "cell_type": "code",
      "metadata": {
        "id": "5apbrJW0fpPb"
      },
      "source": [
        ""
      ],
      "execution_count": null,
      "outputs": []
    }
  ]
}